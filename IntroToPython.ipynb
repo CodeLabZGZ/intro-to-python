{
 "cells": [
  {
   "cell_type": "markdown",
   "metadata": {
    "colab_type": "text",
    "id": "jykCZEnEsktA",
    "slideshow": {
     "slide_type": "slide"
    }
   },
   "source": [
    "# Python\n",
    "\n",
    "![Python Logo](https://www.python.org/static/community_logos/python-logo.png)\n",
    "\n",
    "- It's an interpreted, high level, general-purpose language\n",
    "- Created by Guido Van Rossum, version 1.0 released in 1994\n",
    "- Beginner-friendly language\n",
    "- Easy and fast to prototype\n"
   ]
  },
  {
   "cell_type": "markdown",
   "metadata": {
    "colab_type": "text",
    "id": "ZKpBjf-sk972",
    "slideshow": {
     "slide_type": "subslide"
    }
   },
   "source": [
    "# Python\n",
    "- According to [2018 Stack Overflow survey](https://insights.stackoverflow.com/survey/2018/) Python is the 6th most used programming language amogst developers\n",
    "- 19th annual KDnuggets Software Poll :\n",
    "\n",
    "![texto alternativo](https://www.kdnuggets.com/images/top-analytics-data-science-machine-learning-software-2018-3yrs-539.jpg)\n",
    "- It has a solid claim to being the [fastest-growing major programming language](https://stackoverflow.blog/2017/09/06/incredible-growth-python/?_ga=2.243781765.1850880060.1550657470-210878220.1535929113).\n",
    "- There’s a Python Package for Everything"
   ]
  },
  {
   "cell_type": "code",
   "execution_count": 0,
   "metadata": {
    "colab": {
     "base_uri": "https://localhost:8080/",
     "height": 35
    },
    "colab_type": "code",
    "id": "tfGFsSAZtAho",
    "outputId": "c6abf847-b813-4f65-a98d-2b194d6848fb",
    "slideshow": {
     "slide_type": "fragment"
    }
   },
   "outputs": [
    {
     "name": "stdout",
     "output_type": "stream",
     "text": [
      "Python 3.6.7\n"
     ]
    }
   ],
   "source": [
    "!python -V"
   ]
  },
  {
   "cell_type": "markdown",
   "metadata": {
    "colab_type": "text",
    "id": "jRpaBIghysYo",
    "slideshow": {
     "slide_type": "slide"
    }
   },
   "source": [
    "## Hello world!"
   ]
  },
  {
   "cell_type": "code",
   "execution_count": 0,
   "metadata": {
    "colab": {
     "base_uri": "https://localhost:8080/",
     "height": 35
    },
    "colab_type": "code",
    "id": "zwjYIunbvNc-",
    "outputId": "bdf37ffc-5e6c-4068-9cbd-1cc551c4d3f6",
    "slideshow": {
     "slide_type": "fragment"
    }
   },
   "outputs": [
    {
     "name": "stdout",
     "output_type": "stream",
     "text": [
      "Hello World!\n"
     ]
    }
   ],
   "source": [
    "print(\"Hello World!\")"
   ]
  },
  {
   "cell_type": "markdown",
   "metadata": {
    "colab_type": "text",
    "id": "fnM-1NTCvUW_",
    "slideshow": {
     "slide_type": "slide"
    }
   },
   "source": [
    "# Types\n",
    "- Dynamic type system"
   ]
  },
  {
   "cell_type": "markdown",
   "metadata": {
    "colab_type": "text",
    "id": "HiSfKK4YqgbV",
    "slideshow": {
     "slide_type": "subslide"
    }
   },
   "source": [
    "## Integer"
   ]
  },
  {
   "cell_type": "code",
   "execution_count": 0,
   "metadata": {
    "colab": {
     "base_uri": "https://localhost:8080/",
     "height": 34
    },
    "colab_type": "code",
    "id": "pNERn5fivS9C",
    "outputId": "af98157d-c67d-4e39-f487-4e929e6e6c56",
    "slideshow": {
     "slide_type": "fragment"
    }
   },
   "outputs": [
    {
     "name": "stdout",
     "output_type": "stream",
     "text": [
      "1\n"
     ]
    }
   ],
   "source": [
    "uno = 1\n",
    "print(uno)"
   ]
  },
  {
   "cell_type": "markdown",
   "metadata": {
    "colab_type": "text",
    "id": "aaOBaQpvy0XV",
    "slideshow": {
     "slide_type": "fragment"
    }
   },
   "source": [
    "## Float"
   ]
  },
  {
   "cell_type": "code",
   "execution_count": 0,
   "metadata": {
    "colab": {
     "base_uri": "https://localhost:8080/",
     "height": 34
    },
    "colab_type": "code",
    "id": "gEhmgqmFy0ve",
    "outputId": "93510570-600e-4f8c-b62e-9078a72ca49d",
    "slideshow": {
     "slide_type": "fragment"
    }
   },
   "outputs": [
    {
     "name": "stdout",
     "output_type": "stream",
     "text": [
      "1.0\n"
     ]
    }
   ],
   "source": [
    "uno = 1.0 \n",
    "print(uno)"
   ]
  },
  {
   "cell_type": "markdown",
   "metadata": {
    "colab_type": "text",
    "id": "SfnpZ7ACy1FA",
    "slideshow": {
     "slide_type": "subslide"
    }
   },
   "source": [
    "## Operations"
   ]
  },
  {
   "cell_type": "code",
   "execution_count": 0,
   "metadata": {
    "colab": {
     "base_uri": "https://localhost:8080/",
     "height": 208
    },
    "colab_type": "code",
    "id": "XtOr9w0Ey1PP",
    "outputId": "41600934-5c6f-40dd-c72e-7f49fdefc408",
    "slideshow": {
     "slide_type": "fragment"
    }
   },
   "outputs": [
    {
     "name": "stdout",
     "output_type": "stream",
     "text": [
      "2\n",
      "1\n",
      "20\n",
      "5.0\n",
      "4.5\n",
      "3.3333333333333335\n",
      "3.3333333333333335\n",
      "3\n",
      "-4\n",
      "6\n",
      "8\n"
     ]
    }
   ],
   "source": [
    "print(1+1)\n",
    "print(2-1)\n",
    "print(10*2)\n",
    "print(10/2)\n",
    "print(9/2)\n",
    "\n",
    "# Division\n",
    "print(10.0/3.0)\n",
    "\n",
    "# Division (truncated down)\n",
    "print(10//3)\n",
    "print(-10//3)\n",
    "\n",
    "# Module\n",
    "print(20%7)\n",
    "\n",
    "# Exponentiation\n",
    "print(2**3)"
   ]
  },
  {
   "cell_type": "markdown",
   "metadata": {
    "colab_type": "text",
    "id": "Wlh_LnEKqatD",
    "slideshow": {
     "slide_type": "subslide"
    }
   },
   "source": [
    "## Bool\n",
    "-  <, >, >=, <=, ==, !=, ..."
   ]
  },
  {
   "cell_type": "code",
   "execution_count": 0,
   "metadata": {
    "colab": {
     "base_uri": "https://localhost:8080/",
     "height": 121
    },
    "colab_type": "code",
    "id": "QKccOGcEyNDM",
    "outputId": "b5f41380-d45f-411f-92c6-f79b03745f47",
    "slideshow": {
     "slide_type": "fragment"
    }
   },
   "outputs": [
    {
     "name": "stdout",
     "output_type": "stream",
     "text": [
      "True\n",
      "True\n",
      "False\n",
      "True\n",
      "False\n",
      "True\n"
     ]
    }
   ],
   "source": [
    "true = True\n",
    "false = False\n",
    "\n",
    "print(true and true)\n",
    "print(true or false)\n",
    "print(not true)\n",
    "\n",
    "print(3 == 3)\n",
    "print(4 != 4)\n",
    "x = 5\n",
    "print(3 < x <= 10)"
   ]
  },
  {
   "cell_type": "markdown",
   "metadata": {
    "colab_type": "text",
    "id": "u1HnoVFMqXh5",
    "slideshow": {
     "slide_type": "subslide"
    }
   },
   "source": [
    "## String"
   ]
  },
  {
   "cell_type": "code",
   "execution_count": 0,
   "metadata": {
    "colab": {
     "base_uri": "https://localhost:8080/",
     "height": 69
    },
    "colab_type": "code",
    "id": "GZC5St6ovdNW",
    "outputId": "527de0c1-a15a-4672-d272-0a1f7600959a",
    "slideshow": {
     "slide_type": "fragment"
    }
   },
   "outputs": [
    {
     "name": "stdout",
     "output_type": "stream",
     "text": [
      "uno\n",
      "dos dos dos \n",
      "Hello World!\n"
     ]
    }
   ],
   "source": [
    "b = \"Hello World!\"\n",
    "print(\"u\"+\"no\")\n",
    "print(\"dos \"*3)\n",
    "print(\"{}\".format(b)) #https://docs.python.org/3/tutorial/inputoutput.html\n"
   ]
  },
  {
   "cell_type": "markdown",
   "metadata": {
    "colab_type": "text",
    "id": "cZXh17BMqSoS",
    "slideshow": {
     "slide_type": "subslide"
    }
   },
   "source": [
    "### String operations"
   ]
  },
  {
   "cell_type": "code",
   "execution_count": 0,
   "metadata": {
    "colab": {
     "base_uri": "https://localhost:8080/",
     "height": 104
    },
    "colab_type": "code",
    "id": "R252ZmfEqpo6",
    "outputId": "e0cace8e-fa42-48d0-c8da-7ff49e49ebac",
    "slideshow": {
     "slide_type": "fragment"
    }
   },
   "outputs": [
    {
     "name": "stdout",
     "output_type": "stream",
     "text": [
      "Hello WorldHello World\n",
      "Hello Worldsss\n",
      "True\n",
      "H\n",
      "Hello\n"
     ]
    }
   ],
   "source": [
    "st=\"Hello World\"\n",
    "print(st * 2)\n",
    "print(st + \"sss\")\n",
    "print('H' in st)\n",
    "print(st[0])\n",
    "print(st[0:5]) # Element 0 included, element 5 not"
   ]
  },
  {
   "cell_type": "markdown",
   "metadata": {
    "colab_type": "text",
    "id": "V1Zbw7sErgA4",
    "slideshow": {
     "slide_type": "subslide"
    }
   },
   "source": [
    "### String methods\n",
    "- Original variable is not modified"
   ]
  },
  {
   "cell_type": "code",
   "execution_count": 0,
   "metadata": {
    "colab": {
     "base_uri": "https://localhost:8080/",
     "height": 104
    },
    "colab_type": "code",
    "id": "t3aeqrb5ri4V",
    "outputId": "a9aea080-a7f3-49d1-aafa-d65e7e2f0534",
    "slideshow": {
     "slide_type": "fragment"
    }
   },
   "outputs": [
    {
     "name": "stdout",
     "output_type": "stream",
     "text": [
      "HELLO WORLD\n",
      "hello world\n",
      "3\n",
      "Heaao Worad\n",
      "['Hello', 'World']\n"
     ]
    }
   ],
   "source": [
    "print(st.upper())\n",
    "print(st.lower())\n",
    "print(st.count('l'))\n",
    "print(st.replace('l', 'a'))\n",
    "print(st.split())"
   ]
  },
  {
   "cell_type": "markdown",
   "metadata": {
    "colab_type": "text",
    "id": "B3CVVBmBtWNc",
    "slideshow": {
     "slide_type": "subslide"
    }
   },
   "source": [
    "## List (Array)"
   ]
  },
  {
   "cell_type": "code",
   "execution_count": 0,
   "metadata": {
    "colab": {
     "base_uri": "https://localhost:8080/",
     "height": 104
    },
    "colab_type": "code",
    "id": "S1i4sDxEyzIu",
    "outputId": "082c72b6-51db-4142-f046-bf1cbed80fdc",
    "slideshow": {
     "slide_type": "fragment"
    }
   },
   "outputs": [
    {
     "name": "stdout",
     "output_type": "stream",
     "text": [
      "[1, [1, 'a'], 5]\n",
      "[2, [1, 'a'], 5]\n",
      "[2, [1, 'a'], 5, [1, 2, 3]]\n",
      "[[1, 'a'], 5, [1, 2, 3]]\n",
      "[5, [1, 2, 3]]\n"
     ]
    }
   ],
   "source": [
    "c = [1,2,3]\n",
    "d = [1,\"a\",3]\n",
    "e = [1,[1,\"a\"],5]\n",
    "print(e)\n",
    "e[0] = 2\n",
    "print(e)\n",
    "e.append(c)\n",
    "print(e)\n",
    "e.remove(2)\n",
    "print(e)\n",
    "del e[0]\n",
    "print(e)\n"
   ]
  },
  {
   "cell_type": "markdown",
   "metadata": {
    "colab_type": "text",
    "id": "1f2RBJHXtcgo",
    "slideshow": {
     "slide_type": "subslide"
    }
   },
   "source": [
    "### List subsetting\n",
    "- Similar to string's"
   ]
  },
  {
   "cell_type": "code",
   "execution_count": 0,
   "metadata": {
    "colab": {
     "base_uri": "https://localhost:8080/",
     "height": 121
    },
    "colab_type": "code",
    "id": "8_Qx182nOoDc",
    "outputId": "f8215b0f-8fc9-4cf9-965d-ecc973532132",
    "slideshow": {
     "slide_type": "fragment"
    }
   },
   "outputs": [
    {
     "name": "stdout",
     "output_type": "stream",
     "text": [
      "5\n",
      "[5, 6, 7]\n",
      "[5, 6, 7, 8, 9]\n",
      "[1, 2, 3, 4]\n",
      "9\n",
      "9\n"
     ]
    }
   ],
   "source": [
    "l = [1, 2, 3, 4, 5 ,6, 7, 8, 9]\n",
    "m = [l, [10, 11, 12, 13, 14, 15, 16, 17, 18]]\n",
    "\n",
    "print(l[4])\n",
    "print(l[4:7])\n",
    "print(l[4:])\n",
    "print(l[:4])\n",
    "print(l[-1])\n",
    "print(m[0][8])"
   ]
  },
  {
   "cell_type": "markdown",
   "metadata": {
    "colab_type": "text",
    "id": "N4bCQj4-twYF",
    "slideshow": {
     "slide_type": "subslide"
    }
   },
   "source": [
    "## Tuple\n",
    "- Collection which is ordered and unchangeable\n",
    "- You cannot add items to a tuple"
   ]
  },
  {
   "cell_type": "code",
   "execution_count": 0,
   "metadata": {
    "colab": {},
    "colab_type": "code",
    "id": "4OJy7VJ-Nfqb",
    "slideshow": {
     "slide_type": "fragment"
    }
   },
   "outputs": [],
   "source": [
    "f = (1,2,3)\n",
    "g = (1,\"a\",3)\n",
    "print(g)"
   ]
  },
  {
   "cell_type": "markdown",
   "metadata": {
    "colab_type": "text",
    "id": "AVQpcStKuU-9",
    "slideshow": {
     "slide_type": "subslide"
    }
   },
   "source": [
    "## Set\n",
    "- A set is a collection which is unordered and unindexed\n",
    "- You cannot access items in a set by referring to an index, since sets are unordered the items has no index"
   ]
  },
  {
   "cell_type": "code",
   "execution_count": 0,
   "metadata": {
    "colab": {
     "base_uri": "https://localhost:8080/",
     "height": 52
    },
    "colab_type": "code",
    "id": "7KiMdu5LSObC",
    "outputId": "d7d4d4f6-8f56-478d-febb-6952f6673aac",
    "slideshow": {
     "slide_type": "fragment"
    }
   },
   "outputs": [
    {
     "name": "stdout",
     "output_type": "stream",
     "text": [
      "{1, 2, 3}\n",
      "one\n"
     ]
    }
   ],
   "source": [
    "h = {1,1,2,3,3}\n",
    "print(h)"
   ]
  },
  {
   "cell_type": "markdown",
   "metadata": {
    "colab_type": "text",
    "id": "dy_dKAxZu03H",
    "slideshow": {
     "slide_type": "subslide"
    }
   },
   "source": [
    "## Dictionary (Map)\n",
    "- A dictionary is a collection which is unordered, changeable and indexed"
   ]
  },
  {
   "cell_type": "code",
   "execution_count": 0,
   "metadata": {
    "colab": {
     "base_uri": "https://localhost:8080/",
     "height": 52
    },
    "colab_type": "code",
    "id": "eKCzYsWKu5vl",
    "outputId": "84106224-37b8-48ec-f1bd-3d124dd7d07b",
    "slideshow": {
     "slide_type": "fragment"
    }
   },
   "outputs": [
    {
     "name": "stdout",
     "output_type": "stream",
     "text": [
      "one\n",
      "aaa\n"
     ]
    }
   ],
   "source": [
    "i = {10: \"two\", 20: \"three\", 30: \"one\"}\n",
    "print(i[30])\n",
    "a = {'a': 122, 'b':10192, 'z':\"aaa\"}\n",
    "print(a['z'])"
   ]
  },
  {
   "cell_type": "markdown",
   "metadata": {
    "colab_type": "text",
    "id": "wIgueTj8n64s",
    "slideshow": {
     "slide_type": "subslide"
    }
   },
   "source": [
    "# Type conversion\n",
    "- str()\n",
    "- int()\n",
    "- float()\n",
    "- bool()\n",
    "- list()\n",
    "- dict()\n",
    "- set()\n",
    "- tuple()"
   ]
  },
  {
   "cell_type": "markdown",
   "metadata": {
    "colab_type": "text",
    "id": "nhMRIGb5TdI_",
    "slideshow": {
     "slide_type": "subslide"
    }
   },
   "source": [
    "# Python is simple\n",
    "\n",
    "### Keywords and own functions\n",
    "Some examples"
   ]
  },
  {
   "cell_type": "code",
   "execution_count": 0,
   "metadata": {
    "colab": {
     "base_uri": "https://localhost:8080/",
     "height": 53
    },
    "colab_type": "code",
    "id": "bTpShd43TI9v",
    "outputId": "c2cc2707-c96c-4bf7-a1e5-8d51d24c21ee",
    "slideshow": {
     "slide_type": "fragment"
    }
   },
   "outputs": [
    {
     "name": "stdout",
     "output_type": "stream",
     "text": [
      "3\n"
     ]
    },
    {
     "data": {
      "text/plain": [
       "(1, 2, 3, 4)"
      ]
     },
     "execution_count": 12,
     "metadata": {
      "tags": []
     },
     "output_type": "execute_result"
    }
   ],
   "source": [
    "print(len([1,2,3]))\n",
    "\n",
    "list((1,2,3,4))\n",
    "tuple([1,2,3,4])"
   ]
  },
  {
   "cell_type": "markdown",
   "metadata": {
    "colab_type": "text",
    "id": "QeLxzb6kUr1V",
    "slideshow": {
     "slide_type": "slide"
    }
   },
   "source": [
    "# For Loop"
   ]
  },
  {
   "cell_type": "code",
   "execution_count": 0,
   "metadata": {
    "colab": {
     "base_uri": "https://localhost:8080/",
     "height": 107
    },
    "colab_type": "code",
    "id": "cZd_l1MpUm4K",
    "outputId": "64a2f205-5b74-4162-be30-79ed49a9899f",
    "slideshow": {
     "slide_type": "fragment"
    }
   },
   "outputs": [
    {
     "name": "stdout",
     "output_type": "stream",
     "text": [
      "0\n",
      "1\n",
      "2\n",
      "3\n",
      "4\n"
     ]
    }
   ],
   "source": [
    "for i in range(5):\n",
    "  print(i)\n",
    "  \n",
    "#for i in range(4,8):\n",
    "#  print(i)"
   ]
  },
  {
   "cell_type": "markdown",
   "metadata": {
    "colab_type": "text",
    "id": "gq19Otr1VNVd",
    "slideshow": {
     "slide_type": "subslide"
    }
   },
   "source": [
    "# How would you iterate a list?"
   ]
  },
  {
   "cell_type": "code",
   "execution_count": 0,
   "metadata": {
    "colab": {
     "base_uri": "https://localhost:8080/",
     "height": 89
    },
    "colab_type": "code",
    "id": "0OLCgaCTVIVG",
    "outputId": "91a08db8-dd91-4a1e-80ed-64374fd1fe2f",
    "slideshow": {
     "slide_type": "fragment"
    }
   },
   "outputs": [
    {
     "name": "stdout",
     "output_type": "stream",
     "text": [
      "apple\n",
      "banana\n",
      "stawberry\n",
      "watermelon\n"
     ]
    }
   ],
   "source": [
    "items = ['apple', 'banana', 'stawberry', 'watermelon']\n",
    "for i in range(len(items)):\n",
    "  print(items[i])  "
   ]
  },
  {
   "cell_type": "code",
   "execution_count": 0,
   "metadata": {
    "colab": {
     "base_uri": "https://localhost:8080/",
     "height": 89
    },
    "colab_type": "code",
    "id": "alyP1ckhVzfh",
    "outputId": "98b04c0a-4f68-4a87-c22e-b4e6cac1ed65",
    "slideshow": {
     "slide_type": "fragment"
    }
   },
   "outputs": [
    {
     "name": "stdout",
     "output_type": "stream",
     "text": [
      "apple\n",
      "banana\n",
      "stawberry\n",
      "watermelon\n"
     ]
    }
   ],
   "source": [
    "items = ['apple', 'banana', 'stawberry', 'watermelon']\n",
    "for item in items:\n",
    "  print(item)"
   ]
  },
  {
   "cell_type": "markdown",
   "metadata": {
    "colab_type": "text",
    "id": "o8AcCe0XdcaQ",
    "slideshow": {
     "slide_type": "subslide"
    }
   },
   "source": [
    "# How to know if an element is in a list (or tuple)?"
   ]
  },
  {
   "cell_type": "code",
   "execution_count": 0,
   "metadata": {
    "colab": {
     "base_uri": "https://localhost:8080/",
     "height": 53
    },
    "colab_type": "code",
    "id": "3eFrtRlfdLmY",
    "outputId": "484492a6-1bb5-45f2-906e-f4ef49984b87",
    "slideshow": {
     "slide_type": "fragment"
    }
   },
   "outputs": [
    {
     "name": "stdout",
     "output_type": "stream",
     "text": [
      "True\n",
      "False\n"
     ]
    }
   ],
   "source": [
    "items = ['apple', 'banana', 'stawberry', 'watermelon']\n",
    "print(\"apple\" in items)\n",
    "print(\"grape\" in items)"
   ]
  },
  {
   "cell_type": "markdown",
   "metadata": {
    "slideshow": {
     "slide_type": "slide"
    }
   },
   "source": [
    "# While Loop"
   ]
  },
  {
   "cell_type": "code",
   "execution_count": 0,
   "metadata": {
    "colab": {
     "base_uri": "https://localhost:8080/",
     "height": 107
    },
    "colab_type": "code",
    "id": "Y6WXqKvyU5DO",
    "outputId": "6ba090d0-2ae1-4690-da81-969a8bed0c1a",
    "slideshow": {
     "slide_type": "fragment"
    }
   },
   "outputs": [
    {
     "name": "stdout",
     "output_type": "stream",
     "text": [
      "0\n",
      "1\n",
      "2\n",
      "3\n",
      "4\n"
     ]
    }
   ],
   "source": [
    "i = 0\n",
    "while i < 5:\n",
    "  print(i)\n",
    "  i += 1 #in python, i++ doesn't work"
   ]
  },
  {
   "cell_type": "markdown",
   "metadata": {
    "colab_type": "text",
    "id": "TvGKjzWqeijo",
    "slideshow": {
     "slide_type": "slide"
    }
   },
   "source": [
    "# Flow control"
   ]
  },
  {
   "cell_type": "code",
   "execution_count": 0,
   "metadata": {
    "colab": {
     "base_uri": "https://localhost:8080/",
     "height": 34
    },
    "colab_type": "code",
    "id": "enS9XQI0dwr7",
    "outputId": "12067579-3920-4d47-cc51-85c18eda7146",
    "slideshow": {
     "slide_type": "fragment"
    }
   },
   "outputs": [
    {
     "name": "stdout",
     "output_type": "stream",
     "text": [
      "i is 1\n"
     ]
    }
   ],
   "source": [
    "i = 1\n",
    "if i == 1:\n",
    "  print(\"i is 1\")\n",
    "elif i == 0:\n",
    "  print(\"i is 0\")\n",
    "elif i > 1:\n",
    "  print(\"i is more than 1\")\n",
    "else:\n",
    "  print(\"i is less than 1\")\n"
   ]
  },
  {
   "cell_type": "markdown",
   "metadata": {
    "colab_type": "text",
    "id": "CaT0TvN51w24",
    "slideshow": {
     "slide_type": "subslide"
    }
   },
   "source": [
    "### Danger!!"
   ]
  },
  {
   "cell_type": "code",
   "execution_count": 0,
   "metadata": {
    "colab": {
     "base_uri": "https://localhost:8080/",
     "height": 34
    },
    "colab_type": "code",
    "id": "_6rbVF-m1z7b",
    "outputId": "4a5d677b-9ef9-4316-c221-a3461fbf3154",
    "slideshow": {
     "slide_type": "fragment"
    }
   },
   "outputs": [
    {
     "name": "stdout",
     "output_type": "stream",
     "text": [
      "True\n"
     ]
    }
   ],
   "source": [
    "x = 'a'\n",
    "if x == 'q' or 'e': \n",
    "  print(\"True\")"
   ]
  },
  {
   "cell_type": "markdown",
   "metadata": {
    "slideshow": {
     "slide_type": "fragment"
    }
   },
   "source": [
    "### if (x == 'a') or 'e'.  If a string is not null, it equals true"
   ]
  },
  {
   "cell_type": "markdown",
   "metadata": {
    "colab_type": "text",
    "id": "iOoHWgciWIJp",
    "slideshow": {
     "slide_type": "slide"
    }
   },
   "source": [
    "# Functions"
   ]
  },
  {
   "cell_type": "code",
   "execution_count": 0,
   "metadata": {
    "colab": {
     "base_uri": "https://localhost:8080/",
     "height": 53
    },
    "colab_type": "code",
    "id": "MwcYg-csWN_v",
    "outputId": "cbf1e6ae-11a1-4318-84c2-280014517e59",
    "slideshow": {
     "slide_type": "fragment"
    }
   },
   "outputs": [
    {
     "name": "stdout",
     "output_type": "stream",
     "text": [
      "Hello World!\n",
      "Hello World!\n"
     ]
    }
   ],
   "source": [
    "def helloworld():\n",
    "  print(\"Hello World!\")\n",
    "  \n",
    "helloworld()\n",
    "helloworld()"
   ]
  },
  {
   "cell_type": "code",
   "execution_count": 0,
   "metadata": {
    "colab": {
     "base_uri": "https://localhost:8080/",
     "height": 35
    },
    "colab_type": "code",
    "id": "yc46ljyBWkIt",
    "outputId": "35bd50fb-509e-4ec9-ee0e-7e081527f838",
    "slideshow": {
     "slide_type": "fragment"
    }
   },
   "outputs": [
    {
     "name": "stdout",
     "output_type": "stream",
     "text": [
      "Something\n"
     ]
    }
   ],
   "source": [
    "def return_something():\n",
    "  return \"Something\"\n",
    "\n",
    "s = return_something()\n",
    "print(s)"
   ]
  },
  {
   "cell_type": "markdown",
   "metadata": {
    "colab_type": "text",
    "id": "Rj4d-FkVW2OY",
    "slideshow": {
     "slide_type": "subslide"
    }
   },
   "source": [
    "# A little bit more complicated"
   ]
  },
  {
   "cell_type": "code",
   "execution_count": 0,
   "metadata": {
    "colab": {
     "base_uri": "https://localhost:8080/",
     "height": 34
    },
    "colab_type": "code",
    "id": "PC7Aa2UaW1Kv",
    "outputId": "1137d9e8-72c6-44d1-ecfe-e48897b78e2f",
    "slideshow": {
     "slide_type": "fragment"
    }
   },
   "outputs": [
    {
     "name": "stdout",
     "output_type": "stream",
     "text": [
      "24\n"
     ]
    }
   ],
   "source": [
    "def mult(array):\n",
    "  total = 1\n",
    "  for i in array:\n",
    "    total *= i\n",
    "    \n",
    "  return total\n",
    "\n",
    "nums = [1, 2, 3, 4]\n",
    "print(mult(nums))\n",
    "\n",
    "#items = ['apple', 'banana', 'stawberry', 'watermelon']\n",
    "#print(mult(items))"
   ]
  },
  {
   "cell_type": "markdown",
   "metadata": {
    "colab_type": "text",
    "id": "Wgpih4EIX3IZ",
    "slideshow": {
     "slide_type": "subslide"
    }
   },
   "source": [
    "# Exercise\n",
    "\n",
    "Transalate this C++ program into Python\n",
    "\n",
    "```c++\n",
    "#include <iostream>\n",
    "\n",
    "int factorial(int i) {...}\n",
    "\n",
    "int main() {\n",
    "    std::cout << factorial(10) << std::endl;\n",
    "    return 0;\n",
    "}\n",
    "```"
   ]
  },
  {
   "cell_type": "markdown",
   "metadata": {
    "colab_type": "text",
    "id": "Ac4Nz88GZE7V",
    "slideshow": {
     "slide_type": "subslide"
    }
   },
   "source": [
    "# Try it yourself\n",
    "A little hint\n",
    "\n",
    "```c++\n",
    "#include <iostream>\n",
    "\n",
    "int factorial(int i) {\n",
    "    if(i == 0) {\n",
    "        return 1;\n",
    "    }\n",
    "    else {\n",
    "        return i*factorial(i-1);\n",
    "    }\n",
    "}\n",
    "\n",
    "int main() {\n",
    "    std::cout << factorial(10) << std::endl;\n",
    "    return 0;\n",
    "}\n",
    "```"
   ]
  },
  {
   "cell_type": "code",
   "execution_count": 0,
   "metadata": {
    "colab": {
     "base_uri": "https://localhost:8080/",
     "height": 35
    },
    "colab_type": "code",
    "id": "LtQQjUsOYWft",
    "outputId": "3a45e41a-4adf-408c-da38-e48554232c74",
    "slideshow": {
     "slide_type": "subslide"
    }
   },
   "outputs": [
    {
     "name": "stdout",
     "output_type": "stream",
     "text": [
      "120\n"
     ]
    }
   ],
   "source": [
    "def factorial(i):\n",
    "  if i == 0:\n",
    "    return 1\n",
    "  else:\n",
    "    return i*factorial(i-1)\n",
    "\n",
    "print(factorial(5))"
   ]
  },
  {
   "cell_type": "markdown",
   "metadata": {
    "colab_type": "text",
    "id": "wx9qQxuiw4j_",
    "slideshow": {
     "slide_type": "subslide"
    }
   },
   "source": [
    "### Calling functions with keyword arguments"
   ]
  },
  {
   "cell_type": "code",
   "execution_count": 0,
   "metadata": {
    "colab": {
     "base_uri": "https://localhost:8080/",
     "height": 53
    },
    "colab_type": "code",
    "id": "um46338IZkue",
    "outputId": "79a3954e-359c-46ba-8a6f-19ce41f8c106",
    "slideshow": {
     "slide_type": "fragment"
    }
   },
   "outputs": [
    {
     "name": "stdout",
     "output_type": "stream",
     "text": [
      "x is 1 and y is 2\n",
      "3\n"
     ]
    }
   ],
   "source": [
    "\n",
    "def add(x, y):\n",
    "  print(\"x is {} and y is {}\".format(x, y))\n",
    "  return x + y\n",
    "\n",
    "print(add(y=2,x=1))"
   ]
  },
  {
   "cell_type": "markdown",
   "metadata": {
    "colab_type": "text",
    "id": "h_Tk_q-Ew8vN",
    "slideshow": {
     "slide_type": "subslide"
    }
   },
   "source": [
    "### Returning multiple values"
   ]
  },
  {
   "cell_type": "code",
   "execution_count": 0,
   "metadata": {
    "colab": {
     "base_uri": "https://localhost:8080/",
     "height": 34
    },
    "colab_type": "code",
    "id": "dCfidZEnfVCT",
    "outputId": "c3548cf2-6225-4315-dfac-8675840a45c7",
    "slideshow": {
     "slide_type": "fragment"
    }
   },
   "outputs": [
    {
     "name": "stdout",
     "output_type": "stream",
     "text": [
      "x is 2 and y is 1\n"
     ]
    }
   ],
   "source": [
    "\n",
    "def swap(x, y):\n",
    "  return y, x\n",
    "\n",
    "x = 1\n",
    "y = 2\n",
    "x, y = swap(x, y)\n",
    "print(\"x is {} and y is {}\".format(x, y))"
   ]
  },
  {
   "cell_type": "markdown",
   "metadata": {
    "colab_type": "text",
    "id": "IwEOaK89hJzi",
    "slideshow": {
     "slide_type": "slide"
    }
   },
   "source": [
    "# Classes"
   ]
  },
  {
   "cell_type": "code",
   "execution_count": 0,
   "metadata": {
    "colab": {
     "base_uri": "https://localhost:8080/",
     "height": 53
    },
    "colab_type": "code",
    "id": "UGpDJR-RgF7Z",
    "outputId": "c5f8890a-6264-4814-aa72-d1c4a9cadd85",
    "slideshow": {
     "slide_type": "fragment"
    }
   },
   "outputs": [
    {
     "name": "stdout",
     "output_type": "stream",
     "text": [
      "Jorge\n",
      "19\n"
     ]
    }
   ],
   "source": [
    "class Student:\n",
    "  fav_lang = \"Python\"\n",
    "  \n",
    "  def __init__(self, name, age):\n",
    "    self.name = name\n",
    "    self.age = age\n",
    "    \n",
    "  def get_name(self):\n",
    "    return self.name\n",
    "    \n",
    "  def get_age(self):\n",
    "    return self.age\n",
    "  \n",
    "student1 = Student(\"Jorge\", 19)\n",
    "print(student1.get_name())\n",
    "print(student1.get_age())"
   ]
  },
  {
   "cell_type": "markdown",
   "metadata": {
    "colab_type": "text",
    "id": "geZMtIlajRNw",
    "slideshow": {
     "slide_type": "slide"
    }
   },
   "source": [
    "# Last Note"
   ]
  },
  {
   "cell_type": "code",
   "execution_count": 0,
   "metadata": {
    "colab": {
     "base_uri": "https://localhost:8080/",
     "height": 35
    },
    "colab_type": "code",
    "id": "yup7rG52iRMr",
    "outputId": "36aac6c8-3059-4500-f781-a9cc156f75f4",
    "slideshow": {
     "slide_type": "fragment"
    }
   },
   "outputs": [
    {
     "name": "stdout",
     "output_type": "stream",
     "text": [
      "Hello World!\n"
     ]
    }
   ],
   "source": [
    "if __name__ == '__main__':\n",
    "  print(\"Hello World!\")"
   ]
  },
  {
   "cell_type": "markdown",
   "metadata": {
    "colab_type": "text",
    "id": "aNuTngD3jf-v",
    "slideshow": {
     "slide_type": "slide"
    }
   },
   "source": [
    "# Advanced"
   ]
  },
  {
   "cell_type": "markdown",
   "metadata": {
    "colab_type": "text",
    "id": "AbxEn7_yjjBt",
    "slideshow": {
     "slide_type": "subslide"
    }
   },
   "source": [
    "## List Comprehensions\n",
    "\n",
    "### How to create a list with the sequence of 10 first odd numbers?"
   ]
  },
  {
   "cell_type": "markdown",
   "metadata": {
    "slideshow": {
     "slide_type": "subslide"
    }
   },
   "source": [
    "#### How it is usually done:"
   ]
  },
  {
   "cell_type": "code",
   "execution_count": 0,
   "metadata": {
    "colab": {
     "base_uri": "https://localhost:8080/",
     "height": 35
    },
    "colab_type": "code",
    "id": "1h1LFviFjbJb",
    "outputId": "b4901639-2f9f-44cd-8245-b7224572bbff",
    "slideshow": {
     "slide_type": "fragment"
    }
   },
   "outputs": [
    {
     "name": "stdout",
     "output_type": "stream",
     "text": [
      "[1, 3, 5, 7, 9, 11, 13, 15, 17, 19]\n"
     ]
    }
   ],
   "source": [
    "a = []\n",
    "for i in range(10):\n",
    "  a.append(1+i*2)\n",
    "  \n",
    "print(a)"
   ]
  },
  {
   "cell_type": "markdown",
   "metadata": {
    "colab_type": "text",
    "id": "Xhd75W9Mx-CF",
    "slideshow": {
     "slide_type": "subslide"
    }
   },
   "source": [
    "#### How you can do it in python's list comprehension:"
   ]
  },
  {
   "cell_type": "code",
   "execution_count": 0,
   "metadata": {
    "colab": {
     "base_uri": "https://localhost:8080/",
     "height": 34
    },
    "colab_type": "code",
    "id": "7qOZuktukJdX",
    "outputId": "7b495bfc-01b1-4dde-a4c0-2791cd39a0b9",
    "slideshow": {
     "slide_type": "fragment"
    }
   },
   "outputs": [
    {
     "name": "stdout",
     "output_type": "stream",
     "text": [
      "[1, 3, 5, 7, 9, 11, 13, 15, 17, 19]\n"
     ]
    }
   ],
   "source": [
    "b = [2*i+1 for i in range(10)]\n",
    "print(b)"
   ]
  },
  {
   "cell_type": "markdown",
   "metadata": {
    "colab_type": "text",
    "id": "7i4F-uqYyLAU",
    "slideshow": {
     "slide_type": "subslide"
    }
   },
   "source": [
    "#### Odd numbers list with for loops"
   ]
  },
  {
   "cell_type": "code",
   "execution_count": 0,
   "metadata": {
    "colab": {
     "base_uri": "https://localhost:8080/",
     "height": 35
    },
    "colab_type": "code",
    "id": "NBwgZ6xLlhvX",
    "outputId": "697d222a-318a-4c5b-82ea-7c6e9cf365ad",
    "slideshow": {
     "slide_type": "fragment"
    }
   },
   "outputs": [
    {
     "name": "stdout",
     "output_type": "stream",
     "text": [
      "[1, 3, 5, 7, 9, 11, 13, 15, 17, 19]\n"
     ]
    }
   ],
   "source": [
    "c = []\n",
    "for i in range(20):\n",
    "  if i%2 != 0:\n",
    "    c.append(i)\n",
    "    \n",
    "print(c)"
   ]
  },
  {
   "cell_type": "markdown",
   "metadata": {
    "colab_type": "text",
    "id": "itI7U4eAyTYw",
    "slideshow": {
     "slide_type": "subslide"
    }
   },
   "source": [
    "#### Odd numbers set with list comprehension"
   ]
  },
  {
   "cell_type": "code",
   "execution_count": 0,
   "metadata": {
    "colab": {
     "base_uri": "https://localhost:8080/",
     "height": 34
    },
    "colab_type": "code",
    "id": "0bgX5d_olY1E",
    "outputId": "227c055a-6bfc-4633-c3e2-bdacf21e856f",
    "slideshow": {
     "slide_type": "fragment"
    }
   },
   "outputs": [
    {
     "name": "stdout",
     "output_type": "stream",
     "text": [
      "{1, 3, 5, 7, 9, 11, 13, 15, 17, 19}\n"
     ]
    }
   ],
   "source": [
    "d = {i for i in range(20) if i%2 != 0}\n",
    "print(d)"
   ]
  },
  {
   "cell_type": "markdown",
   "metadata": {
    "colab_type": "text",
    "id": "1QyMzs85YWap",
    "slideshow": {
     "slide_type": "slide"
    }
   },
   "source": [
    "# HashCode\n",
    "\n",
    "* **What it is?**\n",
    "* **EINA hub**\n",
    "* **Where can I sign in?**\n",
    "  * hashcodezgz.github.io"
   ]
  },
  {
   "cell_type": "markdown",
   "metadata": {
    "colab_type": "text",
    "id": "exy86lWBmZiN",
    "slideshow": {
     "slide_type": "subslide"
    }
   },
   "source": [
    "# Using Python to (rapidly) solve a HashCode problem \n",
    "\n",
    "- Structure of the problems\n",
    "- How to divide groups\n",
    "\n",
    "- Problem Statement in https://github.com/CodeLabZGZ/intro-to-python\n"
   ]
  },
  {
   "cell_type": "markdown",
   "metadata": {
    "colab_type": "text",
    "id": "aJ8X_LenLNjt"
   },
   "source": [
    "# Problem Statement\n",
    "\n",
    "- There's a pizza represented as a 2-d grid of **R** rows and **C** columns\n",
    "- The pizza is divided into portions (cells) of pizza\n",
    "- Each cell is represented by 0-based pair coordinates *[r,c]*\n",
    "- Each cell contains either mushroom **M** or tomato **T**\n",
    "<br>\n",
    "![Pizza Representation](https://i.stack.imgur.com/AjOvd.png)\n"
   ]
  },
  {
   "cell_type": "markdown",
   "metadata": {
    "colab_type": "text",
    "id": "yZ_GHfmxOUaZ"
   },
   "source": [
    "- A slice of pizza is a rectangular section of the pizza delimited by two rows and two columns, without holes.\n",
    "- Each slice we want to cut must contain at least **L** cells of each ingredient and at most **H** cells of any kind in total\n",
    "- Obviously, the slices being cut cannot overlap\n",
    "- The slices don't need to cover the entire pizza."
   ]
  },
  {
   "cell_type": "markdown",
   "metadata": {
    "colab_type": "text",
    "id": "1FyAHrXJPF0K"
   },
   "source": [
    "## Goal\n",
    "- The goal is to cut correct slices out of the pizza maximizing the total number of cells in all slices"
   ]
  },
  {
   "cell_type": "markdown",
   "metadata": {
    "colab_type": "text",
    "id": "SdvpWfqbPTnc"
   },
   "source": [
    "# Input Data\n",
    "\n",
    "![Pizza Representation](https://i.stack.imgur.com/AjOvd.png)\n",
    "<br>It will be a \\*.txt with the following structure:\n",
    "*\n",
    "<br>\n",
    "3 5 1 6<br>\n",
    "TTTTT<br>\n",
    "TMMT<br>\n",
    "TTTTT<br>\n",
    "*"
   ]
  },
  {
   "cell_type": "markdown",
   "metadata": {
    "colab_type": "text",
    "id": "p9f-wkt9QHXK"
   },
   "source": [
    "# Output Data\n",
    "\n",
    "![PIZZA SOLUTION](https://i.stack.imgur.com/U5Tjd.png)\n",
    "\n",
    "Output file:<br>\n",
    "*\n",
    "3<br>\n",
    "0 0 2 1<br>\n",
    "0 2 2 2<br>\n",
    "0 3 2 4<br>\n",
    "*"
   ]
  },
  {
   "cell_type": "markdown",
   "metadata": {
    "colab_type": "text",
    "id": "HABR-ziGRBd-"
   },
   "source": [
    "# How do we start?\n",
    "\n",
    "First of all, we must create the data structure.\n",
    "<br>\n",
    "<br>\n",
    "A simple list will work,\n",
    "<br>but how do we read a file and create such data structure?"
   ]
  },
  {
   "cell_type": "code",
   "execution_count": 0,
   "metadata": {
    "colab": {
     "base_uri": "https://localhost:8080/",
     "height": 71
    },
    "colab_type": "code",
    "id": "h26pEABNRmWx",
    "outputId": "3fc04e66-13f5-44c0-801b-1e1b2cb3830a"
   },
   "outputs": [
    {
     "name": "stdout",
     "output_type": "stream",
     "text": [
      "[['TTTTT']\n",
      " ['TMMMT']\n",
      " ['TTTTT']]\n"
     ]
    }
   ],
   "source": [
    "import csv\n",
    "import numpy as np\n",
    "\n",
    "def read_input(dir, filename):\n",
    "  \n",
    "  with open(dir+\"/\"+filename+\".in\", 'r') as file:\n",
    "    \n",
    "    csv_reader = csv.reader(file, delimiter=' ')\n",
    "    rows, columns, min, max = next(csv_reader)\n",
    "    pizza = [list(line[0]) for line in csv_reader]\n",
    "  \n",
    "  return int(rows), int(columns), int(min), int(max), np.array(pizza)\n",
    "\n",
    "DIRECTORY = \"hashcode\"\n",
    "FILENAME = \"a_example\"\n",
    "\n",
    "ROWS, COLUMNS, L, H, PIZZA = read_input(DIRECTORY, FILENAME)\n",
    "print(PIZZA)"
   ]
  },
  {
   "cell_type": "code",
   "execution_count": 0,
   "metadata": {
    "colab": {},
    "colab_type": "code",
    "id": "2HxjBEvTS4YQ"
   },
   "outputs": [],
   "source": [
    "import os\n",
    "\n",
    "def write_output(correct_slices, dir, filename):\n",
    "  \n",
    "    if not os.path.exists(dir):\n",
    "        os.makedirs(DIRECTORY)\n",
    "\n",
    "    with open(dir+\"/s_\"+filename+\".in\", 'w+') as out:\n",
    "      \n",
    "        total = len(correct_slices)\n",
    "        \n",
    "        out.write(str(total)+\"\\n\")\n",
    "        \n",
    "        for sli in correct_slices:\n",
    "            out.write(' '.join(map(str, sli))+\"\\n\")\n",
    "            \n",
    "        print(total)\n",
    "\n",
    "#write_output(solution)"
   ]
  },
  {
   "cell_type": "markdown",
   "metadata": {
    "colab_type": "text",
    "id": "YD04_oyrYfm8"
   },
   "source": [
    "# Ok, really interesting\n",
    "# But we haven't solved the problem yet?"
   ]
  },
  {
   "cell_type": "markdown",
   "metadata": {
    "colab_type": "text",
    "id": "x6WWCFUZY1g0"
   },
   "source": [
    "Now it's your turn. \n",
    "\n",
    "INSERT MEME\n",
    "![It's your turn]()"
   ]
  },
  {
   "cell_type": "markdown",
   "metadata": {
    "colab_type": "text",
    "id": "kySMcKIxaGIJ"
   },
   "source": [
    "## The easiest way is just trying to cut a random cut and check if it's a correct cut or not!!!!!\n",
    "\n",
    "MEME EXPLODING HEAD"
   ]
  },
  {
   "cell_type": "code",
   "execution_count": 0,
   "metadata": {
    "colab": {},
    "colab_type": "code",
    "id": "8ax7Zqg6Y0kr"
   },
   "outputs": [],
   "source": [
    "import random\n",
    "\n",
    "def random_cuts(ROWS, COLUMNS, H):\n",
    "    \"\"\" Creates random cuts to try that have less or equal the maximum number of slices\"\"\"\n",
    "    r1 = random.randint(0, ROWS-1)\n",
    "    c1 = random.randint(0, COLUMNS-1)\n",
    "    \n",
    "    r2 = r1+random.randint(0,min(H,ROWS-r1)-1)\n",
    "    c2 = c1+random.randint(0,min((H//(r2-r1+1)),COLUMNS-c1)-1)\n",
    "    return r1, c1, r2, c2"
   ]
  },
  {
   "cell_type": "code",
   "execution_count": 0,
   "metadata": {
    "colab": {},
    "colab_type": "code",
    "id": "fduV7uzQb288"
   },
   "outputs": [],
   "source": [
    "def correct_slice(pizza, r1, c1, r2, c2, R, C, L, H):\n",
    "  try_slice = pizza[r1:r2+1, c1:c2+1]\n",
    "  \n",
    "  if 'x' in try_slice:\n",
    "    return False\n",
    "  else:\n",
    "    tomato = np.count_nonzero(try_slice == 'T')\n",
    "    mush = np.count_nonzero(try_slice == 'M')\n",
    "    \n",
    "    if tomato >= L and mush >= L and try_slice.size <= H:\n",
    "      return True\n",
    "    else:\n",
    "      return False"
   ]
  },
  {
   "cell_type": "code",
   "execution_count": 0,
   "metadata": {
    "colab": {},
    "colab_type": "code",
    "id": "6itq6r73b3Zx"
   },
   "outputs": [],
   "source": [
    "def cut_slice(pizza, r1, c1, r2, c2):\n",
    "    \"\"\"Cut the slice passed by changing to 'x' those pieces\"\"\"\n",
    "    for i in range(r1, r2+1):\n",
    "        for j in range(c1, c2+1):\n",
    "            pizza[i][j] = 'x'"
   ]
  },
  {
   "cell_type": "code",
   "execution_count": 0,
   "metadata": {
    "colab": {},
    "colab_type": "code",
    "id": "P5ub0LLjedc3"
   },
   "outputs": [],
   "source": [
    "DIRECTORY = \"hashcode\"\n",
    "FILENAME = \"c_medium\"\n",
    "NUM_RAND_COORD = 10000\n",
    "\n",
    "ROWS, COLUMNS, L, H, PIZZA = read_input(DIRECTORY, FILENAME)\n",
    "\n",
    "correct_slices = []\n",
    "\n",
    "for _ in range(NUM_RAND_COORD):\n",
    "  r1, c1, r2, c2 = random_cuts(ROWS, COLUMNS, H)\n",
    "\n",
    "  if correct_slice(PIZZA, r1, c1, r2, c2, ROWS, COLUMNS, L, H):\n",
    "    cut_slice(PIZZA, r1, c1, r2, c2)\n",
    "    sli = [r1, c1, r2, c2]\n",
    "    correct_slices.append(sli)\n",
    "    \n",
    "write_output(correct_slices, DIRECTORY, FILENAME)"
   ]
  },
  {
   "cell_type": "code",
   "execution_count": 0,
   "metadata": {
    "colab": {},
    "colab_type": "code",
    "id": "BnwhXMxEgFIy"
   },
   "outputs": [],
   "source": [
    "import csv\n",
    "import numpy as np\n",
    "import os\n",
    "import random\n",
    "\n",
    "def read_input(dir, filename):\n",
    "  with open(dir+\"/\"+filename+\".in\", 'r') as file:\n",
    "    csv_reader = csv.reader(file, delimiter=' ')\n",
    "    rows, columns, min, max = next(csv_reader)\n",
    "    pizza = [list(line[0]) for line in csv_reader]\n",
    "  return int(rows), int(columns), int(min), int(max), np.array(pizza)\n",
    "\n",
    "def write_output(correct_slices, dir, filename):\n",
    "    if not os.path.exists(dir):\n",
    "        os.makedirs(DIRECTORY)\n",
    "    \n",
    "    with open(dir+\"/s_\"+filename+\".in\", 'w+') as out: \n",
    "        total = len(correct_slices)\n",
    "        out.write(str(total)+\"\\n\")\n",
    "        for sli in correct_slices:\n",
    "            out.write(' '.join(map(str, sli))+\"\\n\")   \n",
    "        print(total)\n",
    "\n",
    "def random_cuts(ROWS, COLUMNS, H):\n",
    "    \"\"\" Creates random cuts to try that have less or equal the maximum number of slices\"\"\"\n",
    "    r1 = random.randint(0, ROWS-1)\n",
    "    c1 = random.randint(0, COLUMNS-1)\n",
    "    \n",
    "    r2 = r1+random.randint(0,min(H,ROWS-r1)-1)\n",
    "    c2 = c1+random.randint(0,min((H//(r2-r1+1)),COLUMNS-c1)-1)\n",
    "    return r1, c1, r2, c2\n",
    "\n",
    "def correct_slice(pizza, r1, c1, r2, c2, R, C, L, H):\n",
    "  try_slice = pizza[r1:r2+1, c1:c2+1]\n",
    "  \n",
    "  if 'x' in try_slice:\n",
    "    return False\n",
    "  else:\n",
    "    tomato = np.count_nonzero(try_slice == 'T')\n",
    "    mush = np.count_nonzero(try_slice == 'M')\n",
    "    \n",
    "    if tomato >= L and mush >= L and try_slice.size <= H:\n",
    "      return True\n",
    "    else:\n",
    "      return False\n",
    "\n",
    "def cut_slice(pizza, r1, c1, r2, c2):\n",
    "    \"\"\"Cut the slice passed by changing to 'x' those pieces\"\"\"\n",
    "    for i in range(r1, r2+1):\n",
    "        for j in range(c1, c2+1):\n",
    "            pizza[i][j] = 'x'\n",
    "            \n",
    "DIRECTORY = \"hashcode\"\n",
    "FILENAME = \"c_medium\"\n",
    "NUM_RAND_COORD = 10000\n",
    "\n",
    "ROWS, COLUMNS, L, H, PIZZA = read_input(DIRECTORY, FILENAME)\n",
    "\n",
    "correct_slices = []\n",
    "\n",
    "for _ in range(NUM_RAND_COORD):\n",
    "  r1, c1, r2, c2 = random_cuts(ROWS, COLUMNS, H)\n",
    "\n",
    "  if correct_slice(PIZZA, r1, c1, r2, c2, ROWS, COLUMNS, L, H):\n",
    "    cut_slice(PIZZA, r1, c1, r2, c2)\n",
    "    sli = [r1, c1, r2, c2]\n",
    "    correct_slices.append(sli)\n",
    "    \n",
    "write_output(correct_slices, DIRECTORY, FILENAME)"
   ]
  },
  {
   "cell_type": "markdown",
   "metadata": {
    "colab_type": "text",
    "id": "XLkbHYpSm4xx"
   },
   "source": [
    "# Python is awesome!\n",
    "The big advantage of Python is the wide variety of uses it has.<br>\n",
    "Some of the uses are:\n",
    "\n",
    "- Web development\n",
    "- WebScraping\n",
    "- AI and ML\n",
    "- ..."
   ]
  },
  {
   "cell_type": "markdown",
   "metadata": {
    "colab_type": "text",
    "id": "58Rv7hfOfaDo"
   },
   "source": [
    "# Web Development\n",
    "\n",
    "Some of the most known libraries are Flask and Django.\n",
    "<br>\n",
    "Here is a simple example of a Flask app."
   ]
  },
  {
   "cell_type": "code",
   "execution_count": 0,
   "metadata": {
    "colab": {},
    "colab_type": "code",
    "id": "mQ7vpIxakQSz"
   },
   "outputs": [],
   "source": [
    "from flask import Flask\n",
    "app = Flask(__name__)\n",
    "\n",
    "@app.route(\"/\")\n",
    "def hello():\n",
    "    return \"Hello World!\"\n",
    "\n",
    "@app.route('/<where>')\n",
    "def place(where):\n",
    "    return \"{} is awesome!\".format(where)\n",
    "\n",
    "if __name__ == \"__main__\":\n",
    "    app.run(host='0.0.0.0', port=8080, debug=True)"
   ]
  }
 ],
 "metadata": {
  "celltoolbar": "Slideshow",
  "colab": {
   "collapsed_sections": [
    "jykCZEnEsktA",
    "fnM-1NTCvUW_"
   ],
   "name": "IntroToPython.ipynb",
   "provenance": [],
   "version": "0.3.2"
  },
  "kernelspec": {
   "display_name": "Python 3",
   "language": "python",
   "name": "python3"
  },
  "language_info": {
   "codemirror_mode": {
    "name": "ipython",
    "version": 3
   },
   "file_extension": ".py",
   "mimetype": "text/x-python",
   "name": "python",
   "nbconvert_exporter": "python",
   "pygments_lexer": "ipython3",
   "version": "3.6.5"
  }
 },
 "nbformat": 4,
 "nbformat_minor": 1
}
